{
  "nbformat": 4,
  "nbformat_minor": 0,
  "metadata": {
    "colab": {
      "provenance": [],
      "collapsed_sections": [
        "WStMJlOvvO-b",
        "4ZtO5k0kuHqT",
        "yNVVP_i60IW3",
        "AhVMkLwp3kaA",
        "Yx0PIKD57wGN",
        "X_kWjvgfAWkQ"
      ],
      "authorship_tag": "ABX9TyNTdqtlBstJ93gM8NzBcVOB",
      "include_colab_link": true
    },
    "kernelspec": {
      "name": "python3",
      "display_name": "Python 3"
    },
    "language_info": {
      "name": "python"
    }
  },
  "cells": [
    {
      "cell_type": "markdown",
      "metadata": {
        "id": "view-in-github",
        "colab_type": "text"
      },
      "source": [
        "<a href=\"https://colab.research.google.com/github/akertvellesy/akertvellesy/blob/main/popUpMe.ipynb\" target=\"_parent\"><img src=\"https://colab.research.google.com/assets/colab-badge.svg\" alt=\"Open In Colab\"/></a>"
      ]
    },
    {
      "cell_type": "markdown",
      "source": [
        "# **Gyors bevezetés a Gradióba**\n",
        "\n",
        "A Gradio egy nyílt forráskódú Python csomag, amellyel gyorsan készíthetsz demókat vagy webes alkalmazásokat gépi tanulási modelledhez, API-hoz vagy bármilyen tetszőleges Python függvényhez. Ezután a Gradio beépített megosztási funkcióival néhány másodperc alatt megoszthatod a demód vagy alkalmazásod linkjét. Nincs szükség JavaScript, CSS vagy web hosting ismeretre!"
      ],
      "metadata": {
        "id": "WStMJlOvvO-b"
      }
    },
    {
      "cell_type": "markdown",
      "source": [
        "**Telepítés**\n",
        "\n",
        "Előfeltétel:\n",
        "\n",
        "*   A Gradio használatához Python 3.8 vagy újabb verzió szükséges.\n",
        "*   A Gradio telepítéséhez a pip csomagkezelőt ajánljuk, amely alapértelmezés szerint megtalálható a Pythonban."
      ],
      "metadata": {
        "id": "k-XbhF8ttpUK"
      }
    },
    {
      "cell_type": "code",
      "execution_count": 3,
      "metadata": {
        "colab": {
          "base_uri": "https://localhost:8080/"
        },
        "collapsed": true,
        "id": "xWAYRPD8pNR3",
        "outputId": "6c19148b-998e-4b28-ad0f-373ca0629bbd"
      },
      "outputs": [
        {
          "output_type": "stream",
          "name": "stdout",
          "text": [
            "Requirement already satisfied: gradio in /usr/local/lib/python3.10/dist-packages (4.36.1)\n",
            "Requirement already satisfied: aiofiles<24.0,>=22.0 in /usr/local/lib/python3.10/dist-packages (from gradio) (23.2.1)\n",
            "Requirement already satisfied: altair<6.0,>=4.2.0 in /usr/local/lib/python3.10/dist-packages (from gradio) (4.2.2)\n",
            "Requirement already satisfied: fastapi in /usr/local/lib/python3.10/dist-packages (from gradio) (0.111.0)\n",
            "Requirement already satisfied: ffmpy in /usr/local/lib/python3.10/dist-packages (from gradio) (0.3.2)\n",
            "Requirement already satisfied: gradio-client==1.0.1 in /usr/local/lib/python3.10/dist-packages (from gradio) (1.0.1)\n",
            "Requirement already satisfied: httpx>=0.24.1 in /usr/local/lib/python3.10/dist-packages (from gradio) (0.27.0)\n",
            "Requirement already satisfied: huggingface-hub>=0.19.3 in /usr/local/lib/python3.10/dist-packages (from gradio) (0.23.3)\n",
            "Requirement already satisfied: importlib-resources<7.0,>=1.3 in /usr/local/lib/python3.10/dist-packages (from gradio) (6.4.0)\n",
            "Requirement already satisfied: jinja2<4.0 in /usr/local/lib/python3.10/dist-packages (from gradio) (3.1.4)\n",
            "Requirement already satisfied: markupsafe~=2.0 in /usr/local/lib/python3.10/dist-packages (from gradio) (2.1.5)\n",
            "Requirement already satisfied: matplotlib~=3.0 in /usr/local/lib/python3.10/dist-packages (from gradio) (3.7.1)\n",
            "Requirement already satisfied: numpy<3.0,>=1.0 in /usr/local/lib/python3.10/dist-packages (from gradio) (1.25.2)\n",
            "Requirement already satisfied: orjson~=3.0 in /usr/local/lib/python3.10/dist-packages (from gradio) (3.10.5)\n",
            "Requirement already satisfied: packaging in /usr/local/lib/python3.10/dist-packages (from gradio) (24.1)\n",
            "Requirement already satisfied: pandas<3.0,>=1.0 in /usr/local/lib/python3.10/dist-packages (from gradio) (2.0.3)\n",
            "Requirement already satisfied: pillow<11.0,>=8.0 in /usr/local/lib/python3.10/dist-packages (from gradio) (9.4.0)\n",
            "Requirement already satisfied: pydantic>=2.0 in /usr/local/lib/python3.10/dist-packages (from gradio) (2.7.3)\n",
            "Requirement already satisfied: pydub in /usr/local/lib/python3.10/dist-packages (from gradio) (0.25.1)\n",
            "Requirement already satisfied: python-multipart>=0.0.9 in /usr/local/lib/python3.10/dist-packages (from gradio) (0.0.9)\n",
            "Requirement already satisfied: pyyaml<7.0,>=5.0 in /usr/local/lib/python3.10/dist-packages (from gradio) (6.0.1)\n",
            "Requirement already satisfied: ruff>=0.2.2 in /usr/local/lib/python3.10/dist-packages (from gradio) (0.4.8)\n",
            "Requirement already satisfied: semantic-version~=2.0 in /usr/local/lib/python3.10/dist-packages (from gradio) (2.10.0)\n",
            "Requirement already satisfied: tomlkit==0.12.0 in /usr/local/lib/python3.10/dist-packages (from gradio) (0.12.0)\n",
            "Requirement already satisfied: typer<1.0,>=0.12 in /usr/local/lib/python3.10/dist-packages (from gradio) (0.12.3)\n",
            "Requirement already satisfied: typing-extensions~=4.0 in /usr/local/lib/python3.10/dist-packages (from gradio) (4.12.2)\n",
            "Requirement already satisfied: urllib3~=2.0 in /usr/local/lib/python3.10/dist-packages (from gradio) (2.0.7)\n",
            "Requirement already satisfied: uvicorn>=0.14.0 in /usr/local/lib/python3.10/dist-packages (from gradio) (0.30.1)\n",
            "Requirement already satisfied: fsspec in /usr/local/lib/python3.10/dist-packages (from gradio-client==1.0.1->gradio) (2023.6.0)\n",
            "Requirement already satisfied: websockets<12.0,>=10.0 in /usr/local/lib/python3.10/dist-packages (from gradio-client==1.0.1->gradio) (11.0.3)\n",
            "Requirement already satisfied: entrypoints in /usr/local/lib/python3.10/dist-packages (from altair<6.0,>=4.2.0->gradio) (0.4)\n",
            "Requirement already satisfied: jsonschema>=3.0 in /usr/local/lib/python3.10/dist-packages (from altair<6.0,>=4.2.0->gradio) (4.19.2)\n",
            "Requirement already satisfied: toolz in /usr/local/lib/python3.10/dist-packages (from altair<6.0,>=4.2.0->gradio) (0.12.1)\n",
            "Requirement already satisfied: anyio in /usr/local/lib/python3.10/dist-packages (from httpx>=0.24.1->gradio) (3.7.1)\n",
            "Requirement already satisfied: certifi in /usr/local/lib/python3.10/dist-packages (from httpx>=0.24.1->gradio) (2024.6.2)\n",
            "Requirement already satisfied: httpcore==1.* in /usr/local/lib/python3.10/dist-packages (from httpx>=0.24.1->gradio) (1.0.5)\n",
            "Requirement already satisfied: idna in /usr/local/lib/python3.10/dist-packages (from httpx>=0.24.1->gradio) (3.7)\n",
            "Requirement already satisfied: sniffio in /usr/local/lib/python3.10/dist-packages (from httpx>=0.24.1->gradio) (1.3.1)\n",
            "Requirement already satisfied: h11<0.15,>=0.13 in /usr/local/lib/python3.10/dist-packages (from httpcore==1.*->httpx>=0.24.1->gradio) (0.14.0)\n",
            "Requirement already satisfied: filelock in /usr/local/lib/python3.10/dist-packages (from huggingface-hub>=0.19.3->gradio) (3.14.0)\n",
            "Requirement already satisfied: requests in /usr/local/lib/python3.10/dist-packages (from huggingface-hub>=0.19.3->gradio) (2.31.0)\n",
            "Requirement already satisfied: tqdm>=4.42.1 in /usr/local/lib/python3.10/dist-packages (from huggingface-hub>=0.19.3->gradio) (4.66.4)\n",
            "Requirement already satisfied: contourpy>=1.0.1 in /usr/local/lib/python3.10/dist-packages (from matplotlib~=3.0->gradio) (1.2.1)\n",
            "Requirement already satisfied: cycler>=0.10 in /usr/local/lib/python3.10/dist-packages (from matplotlib~=3.0->gradio) (0.12.1)\n",
            "Requirement already satisfied: fonttools>=4.22.0 in /usr/local/lib/python3.10/dist-packages (from matplotlib~=3.0->gradio) (4.53.0)\n",
            "Requirement already satisfied: kiwisolver>=1.0.1 in /usr/local/lib/python3.10/dist-packages (from matplotlib~=3.0->gradio) (1.4.5)\n",
            "Requirement already satisfied: pyparsing>=2.3.1 in /usr/local/lib/python3.10/dist-packages (from matplotlib~=3.0->gradio) (3.1.2)\n",
            "Requirement already satisfied: python-dateutil>=2.7 in /usr/local/lib/python3.10/dist-packages (from matplotlib~=3.0->gradio) (2.8.2)\n",
            "Requirement already satisfied: pytz>=2020.1 in /usr/local/lib/python3.10/dist-packages (from pandas<3.0,>=1.0->gradio) (2023.4)\n",
            "Requirement already satisfied: tzdata>=2022.1 in /usr/local/lib/python3.10/dist-packages (from pandas<3.0,>=1.0->gradio) (2024.1)\n",
            "Requirement already satisfied: annotated-types>=0.4.0 in /usr/local/lib/python3.10/dist-packages (from pydantic>=2.0->gradio) (0.7.0)\n",
            "Requirement already satisfied: pydantic-core==2.18.4 in /usr/local/lib/python3.10/dist-packages (from pydantic>=2.0->gradio) (2.18.4)\n",
            "Requirement already satisfied: click>=8.0.0 in /usr/local/lib/python3.10/dist-packages (from typer<1.0,>=0.12->gradio) (8.1.7)\n",
            "Requirement already satisfied: shellingham>=1.3.0 in /usr/local/lib/python3.10/dist-packages (from typer<1.0,>=0.12->gradio) (1.5.4)\n",
            "Requirement already satisfied: rich>=10.11.0 in /usr/local/lib/python3.10/dist-packages (from typer<1.0,>=0.12->gradio) (13.7.1)\n",
            "Requirement already satisfied: starlette<0.38.0,>=0.37.2 in /usr/local/lib/python3.10/dist-packages (from fastapi->gradio) (0.37.2)\n",
            "Requirement already satisfied: fastapi-cli>=0.0.2 in /usr/local/lib/python3.10/dist-packages (from fastapi->gradio) (0.0.4)\n",
            "Requirement already satisfied: ujson!=4.0.2,!=4.1.0,!=4.2.0,!=4.3.0,!=5.0.0,!=5.1.0,>=4.0.1 in /usr/local/lib/python3.10/dist-packages (from fastapi->gradio) (5.10.0)\n",
            "Requirement already satisfied: email_validator>=2.0.0 in /usr/local/lib/python3.10/dist-packages (from fastapi->gradio) (2.1.1)\n",
            "Requirement already satisfied: dnspython>=2.0.0 in /usr/local/lib/python3.10/dist-packages (from email_validator>=2.0.0->fastapi->gradio) (2.6.1)\n",
            "Requirement already satisfied: attrs>=22.2.0 in /usr/local/lib/python3.10/dist-packages (from jsonschema>=3.0->altair<6.0,>=4.2.0->gradio) (23.2.0)\n",
            "Requirement already satisfied: jsonschema-specifications>=2023.03.6 in /usr/local/lib/python3.10/dist-packages (from jsonschema>=3.0->altair<6.0,>=4.2.0->gradio) (2023.12.1)\n",
            "Requirement already satisfied: referencing>=0.28.4 in /usr/local/lib/python3.10/dist-packages (from jsonschema>=3.0->altair<6.0,>=4.2.0->gradio) (0.35.1)\n",
            "Requirement already satisfied: rpds-py>=0.7.1 in /usr/local/lib/python3.10/dist-packages (from jsonschema>=3.0->altair<6.0,>=4.2.0->gradio) (0.18.1)\n",
            "Requirement already satisfied: six>=1.5 in /usr/local/lib/python3.10/dist-packages (from python-dateutil>=2.7->matplotlib~=3.0->gradio) (1.16.0)\n",
            "Requirement already satisfied: markdown-it-py>=2.2.0 in /usr/local/lib/python3.10/dist-packages (from rich>=10.11.0->typer<1.0,>=0.12->gradio) (3.0.0)\n",
            "Requirement already satisfied: pygments<3.0.0,>=2.13.0 in /usr/local/lib/python3.10/dist-packages (from rich>=10.11.0->typer<1.0,>=0.12->gradio) (2.16.1)\n",
            "Requirement already satisfied: exceptiongroup in /usr/local/lib/python3.10/dist-packages (from anyio->httpx>=0.24.1->gradio) (1.2.1)\n",
            "Requirement already satisfied: httptools>=0.5.0 in /usr/local/lib/python3.10/dist-packages (from uvicorn>=0.14.0->gradio) (0.6.1)\n",
            "Requirement already satisfied: python-dotenv>=0.13 in /usr/local/lib/python3.10/dist-packages (from uvicorn>=0.14.0->gradio) (1.0.1)\n",
            "Requirement already satisfied: uvloop!=0.15.0,!=0.15.1,>=0.14.0 in /usr/local/lib/python3.10/dist-packages (from uvicorn>=0.14.0->gradio) (0.19.0)\n",
            "Requirement already satisfied: watchfiles>=0.13 in /usr/local/lib/python3.10/dist-packages (from uvicorn>=0.14.0->gradio) (0.22.0)\n",
            "Requirement already satisfied: charset-normalizer<4,>=2 in /usr/local/lib/python3.10/dist-packages (from requests->huggingface-hub>=0.19.3->gradio) (3.3.2)\n",
            "Requirement already satisfied: mdurl~=0.1 in /usr/local/lib/python3.10/dist-packages (from markdown-it-py>=2.2.0->rich>=10.11.0->typer<1.0,>=0.12->gradio) (0.1.2)\n",
            "\u001b[31mERROR: Operation cancelled by user\u001b[0m\u001b[31m\n",
            "\u001b[0m"
          ]
        }
      ],
      "source": [
        "!pip install gradio"
      ]
    },
    {
      "cell_type": "markdown",
      "source": [
        "# **Első demó elkészítése**\n",
        "\n",
        "A Gradiót futtathatod a kedvenc kódszerkesztődben, Jupyter notebookban, Google\n",
        "Colab-ban vagy bárhol máshol, ahol Pythont írsz."
      ],
      "metadata": {
        "id": "4ZtO5k0kuHqT"
      }
    },
    {
      "cell_type": "code",
      "source": [
        "import gradio as gr\n",
        "\n",
        "def greet(name, intensity):\n",
        "    return \"Hello, \" + name + \"!\" * int(intensity)\n",
        "\n",
        "demo = gr.Interface(\n",
        "    fn=greet,\n",
        "    inputs=[\"image\"],\n",
        "    outputs=[\"image\"],\n",
        ")\n",
        "\n",
        "demo.launch()\n"
      ],
      "metadata": {
        "colab": {
          "base_uri": "https://localhost:8080/",
          "height": 695
        },
        "collapsed": true,
        "id": "OzsyuMRFt_54",
        "outputId": "36b43c77-8841-4bf4-cb1b-b36c30607196"
      },
      "execution_count": 4,
      "outputs": [
        {
          "output_type": "stream",
          "name": "stderr",
          "text": [
            "/usr/local/lib/python3.10/dist-packages/gradio/utils.py:1000: UserWarning: Expected 2 arguments for function <function greet at 0x7d09b91f7d00>, received 1.\n",
            "  warnings.warn(\n",
            "/usr/local/lib/python3.10/dist-packages/gradio/utils.py:1004: UserWarning: Expected at least 2 arguments for function <function greet at 0x7d09b91f7d00>, received 1.\n",
            "  warnings.warn(\n"
          ]
        },
        {
          "output_type": "stream",
          "name": "stdout",
          "text": [
            "Setting queue=True in a Colab notebook requires sharing enabled. Setting `share=True` (you can turn this off by setting `share=False` in `launch()` explicitly).\n",
            "\n",
            "Colab notebook detected. To show errors in colab notebook, set debug=True in launch()\n",
            "Running on public URL: https://b88b5f3876f2199078.gradio.live\n",
            "\n",
            "This share link expires in 72 hours. For free permanent hosting and GPU upgrades, run `gradio deploy` from Terminal to deploy to Spaces (https://huggingface.co/spaces)\n"
          ]
        },
        {
          "output_type": "display_data",
          "data": {
            "text/plain": [
              "<IPython.core.display.HTML object>"
            ],
            "text/html": [
              "<div><iframe src=\"https://b88b5f3876f2199078.gradio.live\" width=\"100%\" height=\"500\" allow=\"autoplay; camera; microphone; clipboard-read; clipboard-write;\" frameborder=\"0\" allowfullscreen></iframe></div>"
            ]
          },
          "metadata": {}
        },
        {
          "output_type": "execute_result",
          "data": {
            "text/plain": []
          },
          "metadata": {},
          "execution_count": 4
        }
      ]
    },
    {
      "cell_type": "markdown",
      "source": [
        "*A fenti parancssor megnyit egy demo ablakot, illetve ezt a választ adja:*\n",
        "\n",
        "Colab notebook detected. To show errors in colab notebook, set debug=True in launch()\n",
        "Running on public URL: https://b88b5f3876f2199078.gradio.live\n",
        "\n",
        "This share link expires in 72 hours. For free permanent hosting and GPU upgrades, run `gradio deploy` from Terminal to deploy to Spaces (https://huggingface.co/spaces)"
      ],
      "metadata": {
        "id": "JPkBS6Ljv92j"
      }
    },
    {
      "cell_type": "markdown",
      "source": [
        "# **Integrálás ComfyUI-val: workflow API**\n",
        "\n",
        "**ComfyUI Workflow Mentése API (.json)**\n",
        "\n",
        "A ComfyUI workflow-k mentése API (.json) fájlként lehetővé teszi a munkafolyamatok egyszerű megosztását és újrafelhasználását. Ez a formátum szabványosított módon írja le a workflow elemeit és azok kapcsolatát, így különböző eszközök és platformok kompatibilisek lehetnek vele.\n",
        "\n",
        "Mentési folyamat:\n",
        "\n",
        "* Workflow megnyitása: Nyisd meg a menteni kívánt workflow-t a ComfyUI felületén.\n",
        "* Mentés API fájlként: Kattints a \"Fájl\" menüre, majd válaszd a \"Mentés másként\" vagy \"Exportálás\" opciót. A formátumok közül válaszd az \"API (.json)\" lehetőséget.\n",
        "\n",
        "* Fájl elnevezése és mentés: Adj egy nevet a fájlnak, válaszd ki a mentés helyét, majd kattints a \"Mentés\" gombra.\n",
        "\n",
        "Fontos megjegyzések:\n",
        "\n",
        "* A ComfyUI verziók közötti kompatibilitás: A különböző ComfyUI verziók eltérő API struktúrával rendelkezhetnek. A legjobb eredmény érdekében ugyanazt a verziót használd a mentéshez és a betöltéshez."
      ],
      "metadata": {
        "id": "yNVVP_i60IW3"
      }
    },
    {
      "cell_type": "code",
      "source": [
        "# A .json path\n",
        "COMFYUI_API_URL = \"http://127.0.0.1:8188/prompt\"  # Cseréld ki a saját API URL-edre!"
      ],
      "metadata": {
        "id": "-0UFwF_SBL21"
      },
      "execution_count": null,
      "outputs": []
    },
    {
      "cell_type": "markdown",
      "source": [
        "# **Képkezelés Gradio-ban: Pillow és NumPy Importálása**\n",
        "\n",
        "A Gradio lehetővé teszi képek feltöltését, melyeket tömb (NumPy array) formátumban dolgoz fel. Ehhez a Pillow és NumPy könyvtárakat kell importálnunk a Python környezetünkbe.\n",
        "\n",
        "Importálási lépések:\n",
        "\n",
        "* Telepítés (ha szükséges): Amennyiben még nincsenek telepítve a Pillow és NumPy csomagok, telepítsük őket a pip csomagkezelővel:"
      ],
      "metadata": {
        "id": "AhVMkLwp3kaA"
      }
    },
    {
      "cell_type": "code",
      "source": [
        "pip install Pillow numpy"
      ],
      "metadata": {
        "colab": {
          "base_uri": "https://localhost:8080/"
        },
        "id": "iZeArCLe3_LI",
        "outputId": "19a882ea-66a5-49ec-eace-fb80c3f0720b"
      },
      "execution_count": 5,
      "outputs": [
        {
          "output_type": "stream",
          "name": "stdout",
          "text": [
            "Requirement already satisfied: Pillow in /usr/local/lib/python3.10/dist-packages (9.4.0)\n",
            "Requirement already satisfied: numpy in /usr/local/lib/python3.10/dist-packages (1.25.2)\n"
          ]
        }
      ]
    },
    {
      "cell_type": "markdown",
      "source": [
        "A Gradio alkalmazás Python kódjában importáljuk a szükséges modulokat:"
      ],
      "metadata": {
        "id": "-Fbxve-t4I-U"
      }
    },
    {
      "cell_type": "code",
      "source": [
        " from PIL import Image\n",
        " import numpy as np\n"
      ],
      "metadata": {
        "id": "LXrTb3iJ4iaw"
      },
      "execution_count": null,
      "outputs": []
    },
    {
      "cell_type": "markdown",
      "source": [
        "**Képkezelés Gradio-ban:**\n",
        "\n",
        "A feltöltött képet a Gradio a megadott formátumnak megfelelően adja át a függvényünknek. Ha tömbként (numpy) szeretnénk kezelni, akkor a következőképpen használhatjuk a Pillow-t a konverzióhoz:"
      ],
      "metadata": {
        "id": "h9JpvTU24qeR"
      }
    },
    {
      "cell_type": "code",
      "source": [
        " def process_image(image):\n",
        "     # image itt egy PIL Image objektum\n",
        "     img_array = np.array(image)\n",
        "     # img_array most egy NumPy tömb\n",
        "     # ... további feldolgozás ...\n"
      ],
      "metadata": {
        "id": "9Npg3Fu14stV"
      },
      "execution_count": null,
      "outputs": []
    },
    {
      "cell_type": "markdown",
      "source": [
        "Fontos megjegyzések:\n",
        "\n",
        "* Képformátum: A Pillow számos képformátumot támogat (PNG, JPEG, stb.). A Gradio Image komponense alapértelmezetten PNG formátumban várja a képet.\n",
        "* Színcsatornák: A NumPy tömb alakja általában (magasság, szélesség, színcsatornák), ahol a színcsatornák száma 3 az RGB képeknél, és 1 a szürkeárnyalatos képeknél.\n",
        "* Adattípus: A NumPy tömb adattípusa általában uint8 (0-255 közötti egész számok)."
      ],
      "metadata": {
        "id": "1wVQSsiI4uzR"
      }
    },
    {
      "cell_type": "markdown",
      "source": [
        "**Példa**\n",
        "\n",
        "A feltöltött képet NumPy tömbbé alakítjuk, invertáljuk a színeit, majd PIL Image objektumként adjuk vissza a Gradio-nak megjelenítésre."
      ],
      "metadata": {
        "id": "xsZHMGVw49a9"
      }
    },
    {
      "cell_type": "code",
      "source": [
        "import gradio as gr\n",
        "from PIL import Image\n",
        "import numpy as np\n",
        "\n",
        "def process_image(image):\n",
        "    img_array = np.array(image)\n",
        "    # Például invertáljuk a színeket:\n",
        "    inverted_array = 255 - img_array\n",
        "    return Image.fromarray(inverted_array)  # PIL Image-ként adjuk vissza\n",
        "\n",
        "iface = gr.Interface(fn=process_image, inputs=gr.Image(type=\"numpy\"), outputs=gr.Image())\n",
        "iface.launch()\n"
      ],
      "metadata": {
        "id": "2LTatOTi5Cse"
      },
      "execution_count": null,
      "outputs": []
    },
    {
      "cell_type": "markdown",
      "source": [
        "# **GIF output Gradio-ban: Comfy UI workflow API-val**\n",
        "\n",
        "Mivel a Gradio *Image* komponense alapértelmezetten nem támogatja az animációkat. A következő kódban bemutatom, hogyan lehet ezt megvalósítani a ComfyUI API-val:"
      ],
      "metadata": {
        "id": "Yx0PIKD57wGN"
      }
    },
    {
      "cell_type": "code",
      "source": [
        "import gradio as gr\n",
        "import requests\n",
        "from PIL import Image, ImageSequence\n",
        "import numpy as np\n",
        "import io\n",
        "import base64\n",
        "import json\n",
        "\n",
        "COMFYUI_API_URL = \"http://127.0.0.1:8188/prompt\"  # Cseréld ki a saját API URL-edre\n",
        "\n",
        "def process_image(image):\n",
        "    img_array = np.array(image)  # NumPy tömbbé alakítás\n",
        "\n",
        "    # API kérés előkészítése\n",
        "    payload = {\n",
        "        \"prompt\": json.dumps({\n",
        "            \"0\": {\n",
        "                \"inputs\": {\n",
        "                    \"image\": img_array.tolist()  # Kép tömböt listává alakítjuk az API számára\n",
        "                }\n",
        "            }\n",
        "        })\n",
        "    }\n",
        "\n",
        "    # API kérés küldése\n",
        "    response = requests.post(COMFYUI_API_URL, json=payload)\n",
        "\n",
        "    if response.status_code == 200:\n",
        "        result_images = response.json()[\"images\"]  # GIF keretek listája\n",
        "\n",
        "        # GIF létrehozása a keretekből\n",
        "        frames = [Image.fromarray(np.array(frame)) for frame in result_images]\n",
        "        with io.BytesIO() as output:\n",
        "            frames[0].save(output, format=\"GIF\", append_images=frames[1:], save_all=True, duration=100, loop=0)\n",
        "            gif_bytes = output.getvalue()\n",
        "\n",
        "        # GIF base64 kódolása\n",
        "        encoded_gif = base64.b64encode(gif_bytes).decode(\"utf-8\")\n",
        "        return f\"data:image/gif;base64,{encoded_gif}\"  # Base64 kódolt GIF string\n",
        "\n",
        "    else:\n",
        "        raise gr.Error(f\"Hiba történt a ComfyUI API hívásakor: {response.status_code}\")\n",
        "\n",
        "# Gradio UI létrehozása\n",
        "with gr.Blocks() as demo:\n",
        "    gr.Markdown(\"## ComfyUI Image-to-Image (GIF)\")\n",
        "    with gr.Row():\n",
        "        input_img = gr.Image(type=\"numpy\", label=\"Feltöltendő kép\")\n",
        "        output_gif = gr.HTML(label=\"Feldolgozott GIF\")\n",
        "\n",
        "    input_img.change(process_image, inputs=input_img, outputs=output_gif)\n",
        "\n",
        "demo.launch()\n"
      ],
      "metadata": {
        "id": "W_cmrpJX8D5a"
      },
      "execution_count": null,
      "outputs": []
    },
    {
      "cell_type": "markdown",
      "source": [
        "**Magyarázat:**\n",
        "\n",
        "Importálások:\n",
        "\n",
        "A *PIL.ImageSequence* modult importáljuk a GIF keretek kezeléséhez, valamint az *io* és *base64* modulokat a GIF létrehozásához és kódolásához.\n",
        "\n",
        "*process_image* függvény:\n",
        "\n",
        "Hasonlóan működik, mint az előző példában, de most a válaszban több képkockát (result_images) kapunk vissza.\n",
        "* Létrehoz egy frames listát, amelyben PIL Image objektumokként tárolja a GIF kereteket.\n",
        "* Egy *io.BytesIO* objektumot használva létrehozza a GIF-et a frames listából, beállítva a képkockák közötti időt (duration) és a végtelen ismétlést (loop=0).\n",
        "A GIF-et base64 kódolású stringgé alakítja, és ezt adja vissza.\n",
        "\n",
        "Gradio UI:\n",
        "\n",
        "* *gr.Blocks()* helyett most *with gr.Blocks() as demo:* konstrukciót használunk.\n",
        "* Hozzáadunk egy *gr.Markdown* elemet a címhez.\n",
        "* Egy gr.Row-ban elhelyezzük a bemeneti gr.Image és a kimeneti gr.HTML komponenseket.\n",
        "* A *gr.HTML* komponenst használjuk a GIF megjelenítéséhez, mivel az képes *base64* kódolt képeket megjeleníteni.\n",
        "* Az *input_img.change* metódussal kötjük össze a bemeneti képet a *process_image* függvénnyel, és a kimenetet a *output_gif* HTML elemmel."
      ],
      "metadata": {
        "id": "0TrI4HYk8Rrx"
      }
    },
    {
      "cell_type": "markdown",
      "source": [
        "**Képkockák megváltoztatása**\n",
        "\n",
        "*'Utolsókból lesznek az elsők...'*\n",
        "\n",
        "Ebben az esetben a *process_image* függvényt a következőképpen módosíthatjuk, hogy az utolsó képkocka \"visszaugrjon\" az elsőre a GIF végén:"
      ],
      "metadata": {
        "id": "-Z1yILFN-SXO"
      }
    },
    {
      "cell_type": "code",
      "source": [
        "def process_image(image):\n",
        "    # ... (API kérés és válasz fogadása, mint korábban) ...\n",
        "\n",
        "    if response.status_code == 200:\n",
        "        result_images = response.json()[\"images\"]\n",
        "\n",
        "        # Utolsó képkocka hozzáadása a végére is\n",
        "        result_images.append(result_images[-1])  # Az utolsó képkockát másoljuk a végére\n",
        "\n",
        "        # GIF létrehozása a módosított keretekből\n",
        "        frames = [Image.fromarray(np.array(frame)) for frame in result_images]\n",
        "        with io.BytesIO() as output:\n",
        "            frames[0].save(output, format=\"GIF\", append_images=frames[1:], save_all=True, duration=100, loop=0)\n",
        "            gif_bytes = output.getvalue()\n",
        "\n",
        "        # ... (GIF base64 kódolása és visszaadása, mint korábban) ...\n"
      ],
      "metadata": {
        "id": "RowcD1n3-o9T"
      },
      "execution_count": null,
      "outputs": []
    },
    {
      "cell_type": "markdown",
      "source": [
        "**Magyarázat:**\n",
        "\n",
        "A *result_images* lista végére hozzáadjuk az utolsó képkockát a *result_images.append(result_images[-1])* sorral. Ez a sor másolja az utolsó képkockát *(result_images[-1])* a lista végére.\n",
        "\n",
        "A többi lépés ugyanaz marad, így a GIF létrehozásakor az utolsó képkocka kétszer szerepel egymás után, ami a \"visszaugrás\" hatását kelti.\n",
        "\n",
        "Fontos megjegyzés:\n",
        "\n",
        "* A *duration* paraméter beállításával szabályozhatod, hogy mennyi ideig tartson a \"visszaugrás\" a GIF végén. A fenti példában 100 milliszekundumot használtam, de ezt tetszés szerint módosíthatod."
      ],
      "metadata": {
        "id": "J0_mAqJ7-vtt"
      }
    },
    {
      "cell_type": "markdown",
      "source": [
        "# **Állandó tárhely és GPU-bővítés a Spaces-en**\n",
        "\n",
        "A Gradio segítségével ingyenesen telepítheted a demódat vagy webalkalmazásodat a Hugging Face Spaces-re (https://huggingface.co/spaces), ahol állandó tárhelyet és GPU-bővítést is kapsz."
      ],
      "metadata": {
        "id": "GSp8VDM4w7ft"
      }
    },
    {
      "cell_type": "markdown",
      "source": [
        "# **Telepítés a Hugging Face Spaces-re**\n",
        "\n",
        "Spaces létrehozása:\n",
        "\n",
        "* Hozz létre egy új Spaces alkalmazást a Hugging Face-en. Válaszd a \"Gradio\" SDK-t.\n",
        "\n",
        "Fájlok feltöltése:\n",
        "\n",
        "* Töltsd fel a módosított Python kódot (app.py) és a ComfyUI workflow .json fájlt a Spaces repository gyökérkönyvtárába.\n",
        "\n",
        "Requirements megadása:\n",
        "\n",
        "* Hozz létre egy requirements.txt fájlt a következő tartalommal:\n",
        "\n",
        "      gradio\n",
        "      requests\n",
        "      Pillow\n",
        "      numpy\n",
        "\n",
        "Telepítés és futtatás:\n",
        "\n",
        "* A Spaces automatikusan telepíti a szükséges könyvtárakat és elindítja az alkalmazást. Ha minden jól megy, a Gradio UI elérhető lesz a Spaces alkalmazás URL-jén.\n",
        "\n",
        "**Fontos**\n",
        "\n",
        "A Spaces alkalmazás beállításainál engedélyezned kell a CORS-t (Cross-Origin Resource Sharing), hogy a Gradio UI hozzáférhessen a ComfyUI API-hoz.\n",
        "A ComfyUI workflow-t úgy kell beállítanod, hogy a megfelelő bemeneteket és kimeneteket használja a Gradio UI-hoz.\n",
        "A Spaces erőforrásaitól függően lehet, hogy módosítanod kell a ComfyUI beállításait a jobb teljesítmény érdekében."
      ],
      "metadata": {
        "id": "tuwGhV4TE4-R"
      }
    },
    {
      "cell_type": "markdown",
      "source": [
        "# **A teljes code - Spaces-en hostolva**"
      ],
      "metadata": {
        "id": "X_kWjvgfAWkQ"
      }
    },
    {
      "cell_type": "code",
      "source": [
        "import gradio as gr\n",
        "import requests\n",
        "from PIL import Image, ImageSequence\n",
        "import numpy as np\n",
        "import io\n",
        "import base64\n",
        "import json\n",
        "\n",
        "COMFYUI_API_URL = \"https://your-spaces-name.hf.space/api/predict/\"  # Cseréld ki a saját Spaces URL-edre!\n",
        "\n",
        "def process_image(image):\n",
        "    try:\n",
        "        img_array = np.array(image)\n",
        "\n",
        "        with open(\"workflow.json\", \"r\") as f:\n",
        "            workflow = json.load(f)\n",
        "\n",
        "        payload = {\n",
        "            \"data\": [\n",
        "                img_array.tolist(),\n",
        "                json.dumps(workflow)\n",
        "            ]\n",
        "        }\n",
        "\n",
        "        response = requests.post(COMFYUI_API_URL, json=payload)\n",
        "\n",
        "        if response.status_code == 200:\n",
        "            result_images = response.json()[\"data\"][0]\n",
        "\n",
        "            frames = [Image.fromarray(np.array(frame)) for frame in result_images]\n",
        "            with io.BytesIO() as output:\n",
        "                frames[0].save(output, format=\"GIF\", append_images=frames[1:], save_all=True, duration=150, loop=0)\n",
        "                gif_bytes = output.getvalue()\n",
        "\n",
        "            encoded_gif = base64.b64encode(gif_bytes).decode(\"utf-8\")\n",
        "            return f\"data:image/gif;base64,{encoded_gif}\"\n",
        "\n",
        "        else:\n",
        "            raise gr.Error(f\"ComfyUI API hiba ({response.status_code}): {response.text}\")\n",
        "\n",
        "    except requests.exceptions.RequestException as e:\n",
        "        raise gr.Error(f\"Hálózati hiba: {e}\")\n",
        "\n",
        "# Gradio UI\n",
        "with gr.Blocks() as demo:\n",
        "    gr.Markdown(\"## ComfyUI Image-to-Image (GIF)\")\n",
        "    with gr.Row():\n",
        "        input_img = gr.Image(type=\"numpy\", label=\"Feltöltendő kép\")\n",
        "        output_gif = gr.HTML(label=\"Feldolgozott GIF\")\n",
        "\n",
        "    input_img.change(process_image, inputs=input_img, outputs=output_gif)\n",
        "\n",
        "demo.launch()\n"
      ],
      "metadata": {
        "colab": {
          "base_uri": "https://localhost:8080/",
          "height": 626
        },
        "collapsed": true,
        "id": "iPY8-FATAap-",
        "outputId": "d85d9eb3-ad4e-4e4c-e1fa-09f12882cd1b"
      },
      "execution_count": 6,
      "outputs": [
        {
          "output_type": "stream",
          "name": "stdout",
          "text": [
            "Setting queue=True in a Colab notebook requires sharing enabled. Setting `share=True` (you can turn this off by setting `share=False` in `launch()` explicitly).\n",
            "\n",
            "Colab notebook detected. To show errors in colab notebook, set debug=True in launch()\n",
            "Running on public URL: https://458c4aa6e181b222fe.gradio.live\n",
            "\n",
            "This share link expires in 72 hours. For free permanent hosting and GPU upgrades, run `gradio deploy` from Terminal to deploy to Spaces (https://huggingface.co/spaces)\n"
          ]
        },
        {
          "output_type": "display_data",
          "data": {
            "text/plain": [
              "<IPython.core.display.HTML object>"
            ],
            "text/html": [
              "<div><iframe src=\"https://458c4aa6e181b222fe.gradio.live\" width=\"100%\" height=\"500\" allow=\"autoplay; camera; microphone; clipboard-read; clipboard-write;\" frameborder=\"0\" allowfullscreen></iframe></div>"
            ]
          },
          "metadata": {}
        },
        {
          "output_type": "execute_result",
          "data": {
            "text/plain": []
          },
          "metadata": {},
          "execution_count": 6
        }
      ]
    }
  ]
}